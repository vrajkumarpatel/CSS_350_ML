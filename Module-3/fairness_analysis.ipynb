{
 "cells": [
  {
   "cell_type": "markdown",
   "metadata": {},
   "source": [
    "# Module 3 Assignment: Analyzing and Mitigating Bias in Machine Learning\n",
    "\n",
    "## Dataset: UCI Adult Income Dataset\n",
    "\n",
    "This notebook analyzes fairness and bias in machine learning using the Adult Income dataset.\n",
    "\n",
    "## Assignment Steps:\n",
    "1. Data Preprocessing and Model Training\n",
    "2. Calculate Fairness Metrics (Demographic Parity, Equalized Odds)\n",
    "3. Mitigation Technique Implementation (Reweighting)\n",
    "4. Report Findings\n"
   ]
  },
  {
   "cell_type": "markdown",
   "metadata": {},
   "source": [
    "## 1. Data Preprocessing and Model Training\n"
   ]
  },
  {
   "cell_type": "code",
   "execution_count": 3,
   "metadata": {
    "ExecuteTime": {
     "end_time": "2025-10-12T11:10:47.467790Z",
     "start_time": "2025-10-12T11:10:34.616192Z"
    }
   },
   "outputs": [],
   "source": [
    "import pandas as pd\n",
    "import numpy as np\n",
    "import matplotlib.pyplot as plt\n",
    "from sklearn.model_selection import train_test_split\n",
    "from sklearn.linear_model import LogisticRegression\n",
    "from sklearn.metrics import accuracy_score, confusion_matrix, classification_report\n",
    "from aif360.metrics import BinaryLabelDatasetMetric, ClassificationMetric\n",
    "from aif360.datasets import StandardDataset\n",
    "from aif360.algorithms.preprocessing import Reweighing\n",
    "\n"
   ]
  },
  {
   "cell_type": "code",
   "execution_count": 4,
   "metadata": {
    "ExecuteTime": {
     "end_time": "2025-10-12T11:10:47.754926Z",
     "start_time": "2025-10-12T11:10:47.582775Z"
    }
   },
   "outputs": [
    {
     "name": "stdout",
     "output_type": "stream",
     "text": [
      "Dataset shape: (32561, 15)\n",
      "\n",
      "Column names:\n",
      "['age', 'workclass', 'fnlwgt', 'education', 'education-num', 'marital-status', 'occupation', 'relationship', 'race', 'sex', 'capital-gain', 'capital-loss', 'hours-per-week', 'native-country', 'income']\n",
      "\n",
      "First few rows:\n"
     ]
    },
    {
     "data": {
      "text/html": [
       "<div>\n",
       "<style scoped>\n",
       "    .dataframe tbody tr th:only-of-type {\n",
       "        vertical-align: middle;\n",
       "    }\n",
       "\n",
       "    .dataframe tbody tr th {\n",
       "        vertical-align: top;\n",
       "    }\n",
       "\n",
       "    .dataframe thead th {\n",
       "        text-align: right;\n",
       "    }\n",
       "</style>\n",
       "<table border=\"1\" class=\"dataframe\">\n",
       "  <thead>\n",
       "    <tr style=\"text-align: right;\">\n",
       "      <th></th>\n",
       "      <th>age</th>\n",
       "      <th>workclass</th>\n",
       "      <th>fnlwgt</th>\n",
       "      <th>education</th>\n",
       "      <th>education-num</th>\n",
       "      <th>marital-status</th>\n",
       "      <th>occupation</th>\n",
       "      <th>relationship</th>\n",
       "      <th>race</th>\n",
       "      <th>sex</th>\n",
       "      <th>capital-gain</th>\n",
       "      <th>capital-loss</th>\n",
       "      <th>hours-per-week</th>\n",
       "      <th>native-country</th>\n",
       "      <th>income</th>\n",
       "    </tr>\n",
       "  </thead>\n",
       "  <tbody>\n",
       "    <tr>\n",
       "      <th>0</th>\n",
       "      <td>39</td>\n",
       "      <td>State-gov</td>\n",
       "      <td>77516</td>\n",
       "      <td>Bachelors</td>\n",
       "      <td>13</td>\n",
       "      <td>Never-married</td>\n",
       "      <td>Adm-clerical</td>\n",
       "      <td>Not-in-family</td>\n",
       "      <td>White</td>\n",
       "      <td>Male</td>\n",
       "      <td>2174</td>\n",
       "      <td>0</td>\n",
       "      <td>40</td>\n",
       "      <td>United-States</td>\n",
       "      <td>&lt;=50K</td>\n",
       "    </tr>\n",
       "    <tr>\n",
       "      <th>1</th>\n",
       "      <td>50</td>\n",
       "      <td>Self-emp-not-inc</td>\n",
       "      <td>83311</td>\n",
       "      <td>Bachelors</td>\n",
       "      <td>13</td>\n",
       "      <td>Married-civ-spouse</td>\n",
       "      <td>Exec-managerial</td>\n",
       "      <td>Husband</td>\n",
       "      <td>White</td>\n",
       "      <td>Male</td>\n",
       "      <td>0</td>\n",
       "      <td>0</td>\n",
       "      <td>13</td>\n",
       "      <td>United-States</td>\n",
       "      <td>&lt;=50K</td>\n",
       "    </tr>\n",
       "    <tr>\n",
       "      <th>2</th>\n",
       "      <td>38</td>\n",
       "      <td>Private</td>\n",
       "      <td>215646</td>\n",
       "      <td>HS-grad</td>\n",
       "      <td>9</td>\n",
       "      <td>Divorced</td>\n",
       "      <td>Handlers-cleaners</td>\n",
       "      <td>Not-in-family</td>\n",
       "      <td>White</td>\n",
       "      <td>Male</td>\n",
       "      <td>0</td>\n",
       "      <td>0</td>\n",
       "      <td>40</td>\n",
       "      <td>United-States</td>\n",
       "      <td>&lt;=50K</td>\n",
       "    </tr>\n",
       "    <tr>\n",
       "      <th>3</th>\n",
       "      <td>53</td>\n",
       "      <td>Private</td>\n",
       "      <td>234721</td>\n",
       "      <td>11th</td>\n",
       "      <td>7</td>\n",
       "      <td>Married-civ-spouse</td>\n",
       "      <td>Handlers-cleaners</td>\n",
       "      <td>Husband</td>\n",
       "      <td>Black</td>\n",
       "      <td>Male</td>\n",
       "      <td>0</td>\n",
       "      <td>0</td>\n",
       "      <td>40</td>\n",
       "      <td>United-States</td>\n",
       "      <td>&lt;=50K</td>\n",
       "    </tr>\n",
       "    <tr>\n",
       "      <th>4</th>\n",
       "      <td>28</td>\n",
       "      <td>Private</td>\n",
       "      <td>338409</td>\n",
       "      <td>Bachelors</td>\n",
       "      <td>13</td>\n",
       "      <td>Married-civ-spouse</td>\n",
       "      <td>Prof-specialty</td>\n",
       "      <td>Wife</td>\n",
       "      <td>Black</td>\n",
       "      <td>Female</td>\n",
       "      <td>0</td>\n",
       "      <td>0</td>\n",
       "      <td>40</td>\n",
       "      <td>Cuba</td>\n",
       "      <td>&lt;=50K</td>\n",
       "    </tr>\n",
       "  </tbody>\n",
       "</table>\n",
       "</div>"
      ],
      "text/plain": [
       "   age          workclass  fnlwgt   education  education-num  \\\n",
       "0   39          State-gov   77516   Bachelors             13   \n",
       "1   50   Self-emp-not-inc   83311   Bachelors             13   \n",
       "2   38            Private  215646     HS-grad              9   \n",
       "3   53            Private  234721        11th              7   \n",
       "4   28            Private  338409   Bachelors             13   \n",
       "\n",
       "        marital-status          occupation    relationship    race      sex  \\\n",
       "0        Never-married        Adm-clerical   Not-in-family   White     Male   \n",
       "1   Married-civ-spouse     Exec-managerial         Husband   White     Male   \n",
       "2             Divorced   Handlers-cleaners   Not-in-family   White     Male   \n",
       "3   Married-civ-spouse   Handlers-cleaners         Husband   Black     Male   \n",
       "4   Married-civ-spouse      Prof-specialty            Wife   Black   Female   \n",
       "\n",
       "   capital-gain  capital-loss  hours-per-week  native-country  income  \n",
       "0          2174             0              40   United-States   <=50K  \n",
       "1             0             0              13   United-States   <=50K  \n",
       "2             0             0              40   United-States   <=50K  \n",
       "3             0             0              40   United-States   <=50K  \n",
       "4             0             0              40            Cuba   <=50K  "
      ]
     },
     "execution_count": 4,
     "metadata": {},
     "output_type": "execute_result"
    }
   ],
   "source": [
    "# Load the dataset\n",
    "df = pd.read_csv('adult_raw/adult_raw.csv')\n",
    "\n",
    "print(\"Dataset shape:\", df.shape)\n",
    "print(\"\\nColumn names:\")\n",
    "print(df.columns.tolist())\n",
    "print(\"\\nFirst few rows:\")\n",
    "df.head()\n"
   ]
  },
  {
   "cell_type": "code",
   "execution_count": 5,
   "metadata": {
    "ExecuteTime": {
     "end_time": "2025-10-12T11:10:48.491306Z",
     "start_time": "2025-10-12T11:10:48.380518Z"
    }
   },
   "outputs": [
    {
     "name": "stdout",
     "output_type": "stream",
     "text": [
      "Processed dataset shape: (32561, 101)\n",
      "\n",
      "Processed columns:\n",
      "['age', 'fnlwgt', 'education-num', 'sex', 'capital-gain', 'capital-loss', 'hours-per-week', 'income', 'workclass_ Federal-gov', 'workclass_ Local-gov', 'workclass_ Never-worked', 'workclass_ Private', 'workclass_ Self-emp-inc', 'workclass_ Self-emp-not-inc', 'workclass_ State-gov', 'workclass_ Without-pay', 'education_ 11th', 'education_ 12th', 'education_ 1st-4th', 'education_ 5th-6th', 'education_ 7th-8th', 'education_ 9th', 'education_ Assoc-acdm', 'education_ Assoc-voc', 'education_ Bachelors', 'education_ Doctorate', 'education_ HS-grad', 'education_ Masters', 'education_ Preschool', 'education_ Prof-school', 'education_ Some-college', 'marital-status_ Married-AF-spouse', 'marital-status_ Married-civ-spouse', 'marital-status_ Married-spouse-absent', 'marital-status_ Never-married', 'marital-status_ Separated', 'marital-status_ Widowed', 'occupation_ Adm-clerical', 'occupation_ Armed-Forces', 'occupation_ Craft-repair', 'occupation_ Exec-managerial', 'occupation_ Farming-fishing', 'occupation_ Handlers-cleaners', 'occupation_ Machine-op-inspct', 'occupation_ Other-service', 'occupation_ Priv-house-serv', 'occupation_ Prof-specialty', 'occupation_ Protective-serv', 'occupation_ Sales', 'occupation_ Tech-support', 'occupation_ Transport-moving', 'relationship_ Not-in-family', 'relationship_ Other-relative', 'relationship_ Own-child', 'relationship_ Unmarried', 'relationship_ Wife', 'race_ Asian-Pac-Islander', 'race_ Black', 'race_ Other', 'race_ White', 'native-country_ Cambodia', 'native-country_ Canada', 'native-country_ China', 'native-country_ Columbia', 'native-country_ Cuba', 'native-country_ Dominican-Republic', 'native-country_ Ecuador', 'native-country_ El-Salvador', 'native-country_ England', 'native-country_ France', 'native-country_ Germany', 'native-country_ Greece', 'native-country_ Guatemala', 'native-country_ Haiti', 'native-country_ Holand-Netherlands', 'native-country_ Honduras', 'native-country_ Hong', 'native-country_ Hungary', 'native-country_ India', 'native-country_ Iran', 'native-country_ Ireland', 'native-country_ Italy', 'native-country_ Jamaica', 'native-country_ Japan', 'native-country_ Laos', 'native-country_ Mexico', 'native-country_ Nicaragua', 'native-country_ Outlying-US(Guam-USVI-etc)', 'native-country_ Peru', 'native-country_ Philippines', 'native-country_ Poland', 'native-country_ Portugal', 'native-country_ Puerto-Rico', 'native-country_ Scotland', 'native-country_ South', 'native-country_ Taiwan', 'native-country_ Thailand', 'native-country_ Trinadad&Tobago', 'native-country_ United-States', 'native-country_ Vietnam', 'native-country_ Yugoslavia']\n"
     ]
    }
   ],
   "source": [
    "# Basic preprocessing, note that column names may need to be adjusted depending on\n",
    "# the datset's structure. \n",
    "df['sex'] = df['sex'].str.strip().apply(lambda x: 1 if x == 'Male' else 0)\n",
    "\n",
    "\n",
    "df = pd.get_dummies(df, columns=[\"workclass\", \"education\", \"marital-status\", \"occupation\", \"relationship\", \"race\", \"native-country\"], drop_first=True)\n",
    "df['income'] = df['income'].str.strip().apply(lambda x: 1 if x == \">50K\" else 0)\n",
    "\n",
    "print(\"Processed dataset shape:\", df.shape)\n",
    "print(\"\\nProcessed columns:\")\n",
    "print(df.columns.tolist())\n"
   ]
  },
  {
   "cell_type": "code",
   "execution_count": 6,
   "metadata": {
    "ExecuteTime": {
     "end_time": "2025-10-12T11:10:48.975547Z",
     "start_time": "2025-10-12T11:10:48.918398Z"
    }
   },
   "outputs": [
    {
     "name": "stdout",
     "output_type": "stream",
     "text": [
      "Training set size: 22792\n",
      "Test set size: 9769\n",
      "Training set income distribution: income\n",
      "0    0.757503\n",
      "1    0.242497\n",
      "Name: proportion, dtype: float64\n",
      "Test set income distribution: income\n",
      "0    0.763128\n",
      "1    0.236872\n",
      "Name: proportion, dtype: float64\n"
     ]
    }
   ],
   "source": [
    "# Train/test split \n",
    "X = df.drop(\"income\", axis=1)\n",
    "y = df[\"income\"]\n",
    "X_train, X_test, y_train, y_test = train_test_split(X, y, test_size=0.3, random_state=42)\n",
    "\n",
    "print(f\"Training set size: {X_train.shape[0]}\")\n",
    "print(f\"Test set size: {X_test.shape[0]}\")\n",
    "print(f\"Training set income distribution: {y_train.value_counts(normalize=True)}\")\n",
    "print(f\"Test set income distribution: {y_test.value_counts(normalize=True)}\")\n"
   ]
  },
  {
   "cell_type": "code",
   "execution_count": 7,
   "metadata": {
    "ExecuteTime": {
     "end_time": "2025-10-12T11:10:50.408161Z",
     "start_time": "2025-10-12T11:10:49.321715Z"
    }
   },
   "outputs": [
    {
     "name": "stdout",
     "output_type": "stream",
     "text": [
      "Accuracy: 0.8006960794349472\n"
     ]
    },
    {
     "name": "stderr",
     "output_type": "stream",
     "text": [
      "c:\\Users\\vp431\\AppData\\Local\\Programs\\Python\\Python313\\Lib\\site-packages\\sklearn\\linear_model\\_logistic.py:473: ConvergenceWarning: lbfgs failed to converge after 100 iteration(s) (status=1):\n",
      "STOP: TOTAL NO. OF ITERATIONS REACHED LIMIT\n",
      "\n",
      "Increase the number of iterations to improve the convergence (max_iter=100).\n",
      "You might also want to scale the data as shown in:\n",
      "    https://scikit-learn.org/stable/modules/preprocessing.html\n",
      "Please also refer to the documentation for alternative solver options:\n",
      "    https://scikit-learn.org/stable/modules/linear_model.html#logistic-regression\n",
      "  n_iter_i = _check_optimize_result(\n"
     ]
    }
   ],
   "source": [
    "# Train logistic regression model \n",
    "model = LogisticRegression()\n",
    "model.fit(X_train, y_train)\n",
    "y_pred = model.predict(X_test)\n",
    "\n",
    "# Evaluate performance\n",
    "accuracy = accuracy_score(y_test, y_pred)\n",
    "print(\"Accuracy:\", accuracy)\n",
    "\n",
    "\n"
   ]
  },
  {
   "cell_type": "markdown",
   "metadata": {},
   "source": [
    "## 2. Calculate Fairness Metrics \n"
   ]
  },
  {
   "cell_type": "code",
   "execution_count": 8,
   "metadata": {
    "ExecuteTime": {
     "end_time": "2025-10-12T11:10:50.740609Z",
     "start_time": "2025-10-12T11:10:50.586264Z"
    }
   },
   "outputs": [
    {
     "name": "stdout",
     "output_type": "stream",
     "text": [
      "Dataset created for analysis\n",
      "Dataset shape: (32561, 100)\n",
      "Label distribution: [24720  7841]\n",
      "\n",
      "=== BASELINE FAIRNESS METRICS ===\n",
      "Demographic Parity Difference: -0.1963\n",
      "Disparate Impact: 0.3580\n"
     ]
    }
   ],
   "source": [
    "# Create StandardDataset \n",
    "dataset = StandardDataset(\n",
    "    df,\n",
    "    label_name=\"income\",\n",
    "    favorable_classes=[1],\n",
    "    protected_attribute_names=[\"sex\"],\n",
    "    privileged_classes=[[1]]\n",
    ")\n",
    "\n",
    "print(\"Dataset created for analysis\")\n",
    "print(f\"Dataset shape: {dataset.features.shape}\")\n",
    "print(f\"Label distribution: {np.bincount(dataset.labels.ravel().astype(int))}\")\n",
    "\n",
    "# Calculate baseline fairness metrics\n",
    "dataset_metric = BinaryLabelDatasetMetric(\n",
    "    dataset,\n",
    "    unprivileged_groups=[{'sex': 0}],\n",
    "    privileged_groups=[{'sex': 1}]\n",
    ")\n",
    "\n",
    "print(\"\\n=== BASELINE FAIRNESS METRICS ===\")\n",
    "print(f\"Demographic Parity Difference: {dataset_metric.statistical_parity_difference():.4f}\")\n",
    "print(f\"Disparate Impact: {dataset_metric.disparate_impact():.4f}\")\n"
   ]
  },
  {
   "cell_type": "code",
   "execution_count": 9,
   "metadata": {
    "ExecuteTime": {
     "end_time": "2025-10-12T11:10:50.968627Z",
     "start_time": "2025-10-12T11:10:50.936036Z"
    }
   },
   "outputs": [
    {
     "name": "stdout",
     "output_type": "stream",
     "text": [
      "\n",
      "=== CLASSIFICATION METRICS ===\n",
      "True Positive Rate: 1.0000\n",
      "False Positive Rate: 0.0000\n",
      "True Negative Rate: 1.0000\n",
      "False Negative Rate: 0.0000\n",
      "Accuracy: 1.0000\n"
     ]
    }
   ],
   "source": [
    "\n",
    "classification_metric = ClassificationMetric(dataset, dataset, \n",
    "                                           unprivileged_groups=[{'sex': 0}], \n",
    "                                           privileged_groups=[{'sex': 1}])\n",
    "\n",
    "print(\"\\n=== CLASSIFICATION METRICS ===\")\n",
    "print(f\"True Positive Rate: {classification_metric.true_positive_rate():.4f}\")\n",
    "print(f\"False Positive Rate: {classification_metric.false_positive_rate():.4f}\")\n",
    "print(f\"True Negative Rate: {classification_metric.true_negative_rate():.4f}\")\n",
    "print(f\"False Negative Rate: {classification_metric.false_negative_rate():.4f}\")\n",
    "print(f\"Accuracy: {classification_metric.accuracy():.4f}\")\n"
   ]
  },
  {
   "cell_type": "code",
   "execution_count": 10,
   "metadata": {
    "ExecuteTime": {
     "end_time": "2025-10-12T11:10:51.122188Z",
     "start_time": "2025-10-12T11:10:51.116043Z"
    }
   },
   "outputs": [
    {
     "name": "stdout",
     "output_type": "stream",
     "text": [
      "\n",
      "Baseline metrics stored:\n",
      "Demographic Parity Difference: -0.1963\n",
      "Accuracy: 0.8007\n"
     ]
    }
   ],
   "source": [
    "# Store baseline metrics for comparison\n",
    "baseline_dp_diff = dataset_metric.statistical_parity_difference()\n",
    "baseline_accuracy = accuracy\n",
    "\n",
    "print(f\"\\nBaseline metrics stored:\")\n",
    "print(f\"Demographic Parity Difference: {baseline_dp_diff:.4f}\")\n",
    "print(f\"Accuracy: {baseline_accuracy:.4f}\")\n"
   ]
  },
  {
   "cell_type": "markdown",
   "metadata": {},
   "source": [
    "## 3. Mitigation Technique Implementation (Reweighting)\n"
   ]
  },
  {
   "cell_type": "code",
   "execution_count": 11,
   "metadata": {
    "ExecuteTime": {
     "end_time": "2025-10-12T11:10:51.447502Z",
     "start_time": "2025-10-12T11:10:51.338319Z"
    }
   },
   "outputs": [
    {
     "name": "stdout",
     "output_type": "stream",
     "text": [
      "Reweighting applied using AIF360\n",
      "Transformed dataset shape: (32561, 100)\n",
      "\n",
      "=== FAIRNESS METRICS AFTER REWEIGHTING ===\n",
      "Demographic Parity Difference: 0.0000\n",
      "Disparate Impact: 1.0000\n"
     ]
    }
   ],
   "source": [
    "# Implement reweighting \n",
    "RW = Reweighing(unprivileged_groups=[{'sex': 0}], privileged_groups=[{'sex': 1}])\n",
    "dataset_transf = RW.fit_transform(dataset)\n",
    "\n",
    "print(\"Reweighting applied using AIF360\")\n",
    "print(f\"Transformed dataset shape: {dataset_transf.features.shape}\")\n",
    "\n",
    "# Calculate fairness metrics after reweighting\n",
    "dataset_transf_metric = BinaryLabelDatasetMetric(dataset_transf, \n",
    "                                                unprivileged_groups=[{'sex': 0}], \n",
    "                                                privileged_groups=[{'sex': 1}])\n",
    "\n",
    "print(\"\\n=== FAIRNESS METRICS AFTER REWEIGHTING ===\")\n",
    "print(f\"Demographic Parity Difference: {dataset_transf_metric.statistical_parity_difference():.4f}\")\n",
    "print(f\"Disparate Impact: {dataset_transf_metric.disparate_impact():.4f}\")\n"
   ]
  },
  {
   "cell_type": "code",
   "execution_count": 12,
   "metadata": {
    "ExecuteTime": {
     "end_time": "2025-10-12T11:10:52.291243Z",
     "start_time": "2025-10-12T11:10:51.584581Z"
    }
   },
   "outputs": [
    {
     "name": "stdout",
     "output_type": "stream",
     "text": [
      "\n",
      "Reweighted Model Accuracy: 0.8007\n",
      "Accuracy Change: 0.0000\n"
     ]
    },
    {
     "name": "stderr",
     "output_type": "stream",
     "text": [
      "c:\\Users\\vp431\\AppData\\Local\\Programs\\Python\\Python313\\Lib\\site-packages\\sklearn\\linear_model\\_logistic.py:473: ConvergenceWarning: lbfgs failed to converge after 100 iteration(s) (status=1):\n",
      "STOP: TOTAL NO. OF ITERATIONS REACHED LIMIT\n",
      "\n",
      "Increase the number of iterations to improve the convergence (max_iter=100).\n",
      "You might also want to scale the data as shown in:\n",
      "    https://scikit-learn.org/stable/modules/preprocessing.html\n",
      "Please also refer to the documentation for alternative solver options:\n",
      "    https://scikit-learn.org/stable/modules/linear_model.html#logistic-regression\n",
      "  n_iter_i = _check_optimize_result(\n"
     ]
    }
   ],
   "source": [
    "# Re-train and evaluate fairness again with the reweighted dataset\n",
    "# Extract features and labels from transformed dataset\n",
    "X_transf = dataset_transf.features\n",
    "y_transf = dataset_transf.labels.ravel()\n",
    "\n",
    "# Split the transformed dataset\n",
    "X_train_transf, X_test_transf, y_train_transf, y_test_transf = train_test_split(\n",
    "    X_transf, y_transf, test_size=0.3, random_state=42)\n",
    "\n",
    "# Train model on reweighted data\n",
    "model_transf = LogisticRegression()\n",
    "model_transf.fit(X_train_transf, y_train_transf)\n",
    "y_pred_transf = model_transf.predict(X_test_transf)\n",
    "\n",
    "# Evaluate reweighted model performance\n",
    "accuracy_transf = accuracy_score(y_test_transf, y_pred_transf)\n",
    "print(f\"\\nReweighted Model Accuracy: {accuracy_transf:.4f}\")\n",
    "print(f\"Accuracy Change: {accuracy_transf - baseline_accuracy:.4f}\")\n",
    "\n",
    "\n"
   ]
  },
  {
   "cell_type": "code",
   "execution_count": 13,
   "metadata": {
    "ExecuteTime": {
     "end_time": "2025-10-12T11:10:52.379765Z",
     "start_time": "2025-10-12T11:10:52.360314Z"
    }
   },
   "outputs": [],
   "source": [
    "predicted_dataset = dataset.copy()\n",
    "predicted_dataset.labels = y_pred.reshape(-1, 1)\n",
    "\n",
    "classification_metric = ClassificationMetric(\n",
    "    dataset, predicted_dataset,\n",
    "    unprivileged_groups=[{'sex': 0}],\n",
    "    privileged_groups=[{'sex': 1}]\n",
    ")\n",
    "\n"
   ]
  },
  {
   "cell_type": "markdown",
   "metadata": {},
   "source": [
    "## 4. Report Findings\n"
   ]
  },
  {
   "cell_type": "code",
   "execution_count": 14,
   "metadata": {
    "ExecuteTime": {
     "end_time": "2025-10-12T11:10:52.465115Z",
     "start_time": "2025-10-12T11:10:52.457791Z"
    }
   },
   "outputs": [
    {
     "name": "stdout",
     "output_type": "stream",
     "text": [
      "\n",
      "============================================================\n",
      "FAIRNESS COMPARISON: BEFORE vs AFTER MITIGATION\n",
      "============================================================\n",
      "\n",
      "MODEL PERFORMANCE:\n",
      "Baseline Accuracy: 0.8007\n",
      "Reweighted Accuracy: 0.8007\n",
      "Accuracy Change: 0.0000\n",
      "\n",
      "FAIRNESS METRICS:\n",
      "Demographic Parity Difference:\n",
      "  Before: -0.1963\n",
      "  After:  0.0000\n",
      "  Change: 0.1963\n",
      "\n",
      "Disparate Impact:\n",
      "  Before: 0.3580\n",
      "  After:  1.0000\n",
      "  Change: 0.6420\n"
     ]
    }
   ],
   "source": [
    "# Compare fairness metrics before and after mitigation\n",
    "print(\"\\n\" + \"=\"*60)\n",
    "print(\"FAIRNESS COMPARISON: BEFORE vs AFTER MITIGATION\")\n",
    "print(\"=\"*60)\n",
    "\n",
    "# Store reweighted metrics\n",
    "reweighted_dp_diff = dataset_transf_metric.statistical_parity_difference()\n",
    "\n",
    "print(f\"\\nMODEL PERFORMANCE:\")\n",
    "print(f\"Baseline Accuracy: {baseline_accuracy:.4f}\")\n",
    "print(f\"Reweighted Accuracy: {accuracy_transf:.4f}\")\n",
    "print(f\"Accuracy Change: {accuracy_transf - baseline_accuracy:.4f}\")\n",
    "\n",
    "print(f\"\\nFAIRNESS METRICS:\")\n",
    "print(f\"Demographic Parity Difference:\")\n",
    "print(f\"  Before: {baseline_dp_diff:.4f}\")\n",
    "print(f\"  After:  {reweighted_dp_diff:.4f}\")\n",
    "print(f\"  Change: {reweighted_dp_diff - baseline_dp_diff:.4f}\")\n",
    "\n",
    "print(f\"\\nDisparate Impact:\")\n",
    "print(f\"  Before: {dataset_metric.disparate_impact():.4f}\")\n",
    "print(f\"  After:  {dataset_transf_metric.disparate_impact():.4f}\")\n",
    "print(f\"  Change: {dataset_transf_metric.disparate_impact() - dataset_metric.disparate_impact():.4f}\")\n"
   ]
  },
  {
   "cell_type": "code",
   "execution_count": 15,
   "metadata": {
    "ExecuteTime": {
     "end_time": "2025-10-12T11:10:52.595198Z",
     "start_time": "2025-10-12T11:10:52.581851Z"
    }
   },
   "outputs": [
    {
     "name": "stdout",
     "output_type": "stream",
     "text": [
      "\n",
      "SUMMARY OF RESULTS:\n",
      "                       Metric Before Mitigation After Mitigation  Change\n",
      "             Overall Accuracy            0.8007           0.8007 +0.0000\n",
      "Demographic Parity Difference           -0.1963           0.0000 +0.1963\n",
      "             Disparate Impact            0.3580           1.0000 +0.6420\n",
      "\n",
      "============================================================\n",
      "INTERPRETATION\n",
      "============================================================\n",
      "\n",
      "1. ACCURACY IMPACT:\n",
      "   → Accuracy remained unchanged\n",
      "\n",
      "2. FAIRNESS IMPROVEMENTS:\n",
      "   ✗ Demographic parity worsened by 0.1963\n",
      "   ✓ Disparate impact improved (closer to 1.0)\n",
      "\n",
      "3. KEY INSIGHTS:\n",
      "   • AIF360 provides standardized fairness metrics\n",
      "   • Reweighting technique aims to balance demographic representation\n",
      "   • Trade-offs between fairness and accuracy are common\n",
      "   • Multiple fairness metrics may conflict with each other\n"
     ]
    }
   ],
   "source": [
    "# Summary table of key metrics\n",
    "summary_data = {\n",
    "    'Metric': [\n",
    "        'Overall Accuracy',\n",
    "        'Demographic Parity Difference',\n",
    "        'Disparate Impact'\n",
    "    ],\n",
    "    'Before Mitigation': [\n",
    "        f\"{baseline_accuracy:.4f}\",\n",
    "        f\"{baseline_dp_diff:.4f}\",\n",
    "        f\"{dataset_metric.disparate_impact():.4f}\"\n",
    "    ],\n",
    "    'After Mitigation': [\n",
    "        f\"{accuracy_transf:.4f}\",\n",
    "        f\"{reweighted_dp_diff:.4f}\",\n",
    "        f\"{dataset_transf_metric.disparate_impact():.4f}\"\n",
    "    ],\n",
    "    'Change': [\n",
    "        f\"{accuracy_transf - baseline_accuracy:+.4f}\",\n",
    "        f\"{reweighted_dp_diff - baseline_dp_diff:+.4f}\",\n",
    "        f\"{dataset_transf_metric.disparate_impact() - dataset_metric.disparate_impact():+.4f}\"\n",
    "    ]\n",
    "}\n",
    "\n",
    "summary_df = pd.DataFrame(summary_data)\n",
    "print(\"\\nSUMMARY OF RESULTS:\")\n",
    "print(summary_df.to_string(index=False))\n",
    "\n",
    "# Interpretation\n",
    "print(\"\\n\" + \"=\"*60)\n",
    "print(\"INTERPRETATION\")\n",
    "print(\"=\"*60)\n",
    "\n",
    "print(\"\\n1. ACCURACY IMPACT:\")\n",
    "if accuracy_transf > baseline_accuracy:\n",
    "    print(f\"   ✓ Reweighting improved accuracy by {accuracy_transf - baseline_accuracy:.4f}\")\n",
    "elif accuracy_transf < baseline_accuracy:\n",
    "    print(f\"   ✗ Reweighting decreased accuracy by {baseline_accuracy - accuracy_transf:.4f}\")\n",
    "else:\n",
    "    print(\"   → Accuracy remained unchanged\")\n",
    "\n",
    "print(\"\\n2. FAIRNESS IMPROVEMENTS:\")\n",
    "if reweighted_dp_diff < baseline_dp_diff:\n",
    "    print(f\"   ✓ Demographic parity improved by {baseline_dp_diff - reweighted_dp_diff:.4f}\")\n",
    "else:\n",
    "    print(f\"   ✗ Demographic parity worsened by {reweighted_dp_diff - baseline_dp_diff:.4f}\")\n",
    "    \n",
    "disparate_impact_before = dataset_metric.disparate_impact()\n",
    "disparate_impact_after = dataset_transf_metric.disparate_impact()\n",
    "if abs(disparate_impact_after - 1.0) < abs(disparate_impact_before - 1.0):\n",
    "    print(f\"   ✓ Disparate impact improved (closer to 1.0)\")\n",
    "else:\n",
    "    print(f\"   ✗ Disparate impact worsened\")\n",
    "\n",
    "print(\"\\n3. KEY INSIGHTS:\")\n",
    "print(\"   • AIF360 provides standardized fairness metrics\")\n",
    "print(\"   • Reweighting technique aims to balance demographic representation\")\n",
    "print(\"   • Trade-offs between fairness and accuracy are common\")\n",
    "print(\"   • Multiple fairness metrics may conflict with each other\")\n"
   ]
  }
 ],
 "metadata": {
  "kernelspec": {
   "display_name": "Python 3",
   "language": "python",
   "name": "python3"
  },
  "language_info": {
   "codemirror_mode": {
    "name": "ipython",
    "version": 3
   },
   "file_extension": ".py",
   "mimetype": "text/x-python",
   "name": "python",
   "nbconvert_exporter": "python",
   "pygments_lexer": "ipython3",
   "version": "3.13.3"
  }
 },
 "nbformat": 4,
 "nbformat_minor": 2
}
