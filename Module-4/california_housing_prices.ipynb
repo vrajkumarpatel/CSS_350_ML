Author : Vrajkumar Patel
Date : 10/17/2025
 Module 4: Predicting Housing Prices with Linear Regression
1. Import lib
#Import lib


import pandas as pd
import numpy as np
import matplotlib.pyplot as plt
import seaborn as sns

from sklearn.datasets import fetch_california_housing
from sklearn.preprocessing import StandardScaler
from sklearn.model_selection import train_test_split
from sklearn.linear_model import LinearRegression
from sklearn.metrics import mean_squared_error


# Load California Housing dataset
california = fetch_california_housing()
df = pd.DataFrame(california.data, columns=california.feature_names)
# Target variable (housing price)
df['MedHouseVal'] = california.target
2. Load dataset
#load Dataset
df = pd.read_csv("californiahousingprices.csv")
3. Basic data exploration
print(df.head())
print(df.info())
print(df.describe())
print(df.isnull().sum())
4. Visualize relationships between key features and target variable
plt.figure(figsize=(10,6))
sns.scatterplot(x='MedInc', y='MedHouseVal', data=df, alpha=0.5)
plt.title('Median Income vs Median House Value')
plt.show()

plt.figure(figsize=(10,6))
sns.scatterplot(x='AveRooms', y='MedHouseVal', data=df, alpha=0.5)
plt.title('Average Rooms vs Median House Value')
plt.show()
 5. Preprocessing - handle missing values
df = df.dropna()
Optional: Standardize features
X = df.drop('MedHouseVal', axis=1)
y = df['MedHouseVal']

scaler = StandardScaler()
X_scaled = scaler.fit_transform(X)
6. Train-Test Split
X_train, X_test, y_train, y_test = train_test_split(
    X_scaled, y, test_size=0.2, random_state=42
)
Train linear regg.
model = LinearRegression()
model.fit(X_train, y_train)
8. Print model coefficients
coefficients = pd.DataFrame(model.coef_, index=X.columns, columns=['Coefficient'])
print("\nFeature Coefficients:\n", coefficients)
9. Evaluate Model Performance
y_pred = model.predict(X_test)
mse = mean_squared_error(y_test, y_pred)
print(f"\nMean Squared Error (MSE): {mse:.4f}")
10. Visualize predictions vs actual values
plt.figure(figsize=(8,6))
plt.scatter(y_test, y_pred, alpha=0.5)
plt.xlabel("Actual Median House Value")
plt.ylabel("Predicted Median House Value")
plt.title("Actual vs Predicted Housing Prices")
plt.show()
11. Report Findings
print("\n--- Report Summary ---")
print(f"Mean Squared Error (MSE): {mse:.4f}")
top_features = coefficients.abs().sort_values(by='Coefficient', ascending=False).head(3)
print("\nTop predictive features:\n", top_features)
print("\nObservations:")
print("- Median income (MedInc) is typically the strongest predictor of house prices.")
print("- The MSE provides an estimate of how close predictions are to actual prices.")
print("- Linear Regression assumes a linear relationship; non-linear patterns may not be captured well.")
